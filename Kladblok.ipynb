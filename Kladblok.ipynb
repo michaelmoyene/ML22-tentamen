{
 "cells": [
  {
   "attachments": {},
   "cell_type": "markdown",
   "metadata": {},
   "source": [
    "Dataset:\n",
    "\n",
    "Het is een audiodataset. Een audio dataset heeft 3 dimensies. In pytorch is dat de 1d dimensie.\n",
    "\n",
    "10 klassen:\n",
    "13 features\n",
    "\n",
    "8800 observaties\n",
    "10 getallen\n",
    "10 herhalingen\n",
    "88 sprekers (88x10x10)\n",
    "\n",
    "1 regel getallen is 1 uitspraak van 1 persoon\n",
    "1 blok is 1 persoon die 1 uitspraak doet (getal 3 bijv)\n",
    "\n",
    "Potentieel probleem: Te weinig observaties? Te weinig sprekers? Relatief kleine dataset."
   ]
  },
  {
   "attachments": {},
   "cell_type": "markdown",
   "metadata": {},
   "source": [
    "Hoe bepaal je de grootte van de filters?\n",
    "- Relatief kleine filters gebruiken omdat de datasets maar 13 features hebben.\n",
    "- input channels: Gelijk aan het aantal features. In dit geval 13.\n",
    "- In een linear model de hidden state niet te ver oprekken, kans op overfitting\n",
    "\n",
    "\n"
   ]
  },
  {
   "attachments": {},
   "cell_type": "markdown",
   "metadata": {},
   "source": [
    "Modellen om te proberen:\n",
    "CNN\n",
    "Gru \n",
    "Gru + attention\n",
    "\n"
   ]
  },
  {
   "cell_type": "code",
   "execution_count": null,
   "metadata": {},
   "outputs": [],
   "source": [
    "#Attention GRU template\n",
    "\n",
    "class AttentionGRU(nn.Module):\n",
    "    def __init__(\n",
    "        self,\n",
    "        config: Dict,\n",
    "    ) -> None:\n",
    "        super().__init__()\n",
    "        self.rnn = nn.GRU(\n",
    "            input_size=config[\"input_size\"],\n",
    "            hidden_size=config[\"hidden_size\"],\n",
    "            dropout=config[\"dropout\"],\n",
    "            batch_first=True,\n",
    "            num_layers=config[\"num_layers\"],\n",
    "        )\n",
    "        self.attention = nn.MultiheadAttention(\n",
    "            embed_dim=config[\"hidden_size\"],\n",
    "            num_heads=4,\n",
    "            dropout=config[\"dropout\"],\n",
    "            batch_first=True,\n",
    "        )\n",
    "        self.linear = nn.Linear(config[\"hidden_size\"], config[\"output_size\"])\n",
    "\n",
    "    def forward(self, x: Tensor) -> Tensor:\n",
    "        x, _ = self.rnn(x)\n",
    "        x, _ = self.attention(x.clone(), x.clone(), x)\n",
    "        last_step = x[:, -1, :]\n",
    "        yhat = self.linear(last_step)\n",
    "        return yhat"
   ]
  },
  {
   "cell_type": "code",
   "execution_count": null,
   "metadata": {},
   "outputs": [],
   "source": []
  }
 ],
 "metadata": {
  "kernelspec": {
   "display_name": "tentamen-ODJr_Lwd-py3.9",
   "language": "python",
   "name": "python3"
  },
  "language_info": {
   "codemirror_mode": {
    "name": "ipython",
    "version": 3
   },
   "file_extension": ".py",
   "mimetype": "text/x-python",
   "name": "python",
   "nbconvert_exporter": "python",
   "pygments_lexer": "ipython3",
   "version": "3.9.12 (main, Nov 19 2022, 09:58:14) \n[GCC 11.3.0]"
  },
  "orig_nbformat": 4,
  "vscode": {
   "interpreter": {
    "hash": "fbef76b2a22da125a2b6c0bca10e57c7eee6aebc77cdd3b59e3c27f177e62e93"
   }
  }
 },
 "nbformat": 4,
 "nbformat_minor": 2
}
